{
 "cells": [
  {
   "cell_type": "markdown",
   "id": "abe2a1d2",
   "metadata": {},
   "source": [
    "## What Does This Piece of Code Do?\n",
    "It basically takes in a root file produced by AnaTop from a TRUTH3 DxAOD and spits out vital jet and particle information from there.\n",
    "## How do I run it? \n",
    "First, make sure that you have all the packages installed which are imported. Then set up a virtual python environment, preferably using conda or pip with exactly the same python3 version for which CERN ROOT was compiled on your machine. Then, as usual, run the notebook cell by cell with your own modifications.\n",
    "## Where is the documentation for uproot?\n",
    "Here: [Uproot](https://uproot.readthedocs.io/en/latest/basic.html)"
   ]
  },
  {
   "cell_type": "code",
   "execution_count": 1,
   "id": "87e4c6f6",
   "metadata": {},
   "outputs": [
    {
     "name": "stdout",
     "output_type": "stream",
     "text": [
      "Welcome to JupyROOT 6.25/01\n"
     ]
    }
   ],
   "source": [
    "%matplotlib inline\n",
    "import os\n",
    "import numpy as np\n",
    "import pandas as pd\n",
    "import uproot as ur\n",
    "import matplotlib.pyplot as plt\n",
    "import time\n",
    "import ROOT as root\n",
    "from IPython.display import display, HTML\n",
    "\n",
    "pd.set_option('display.max_columns',1000)\n",
    "pd.set_option('display.max_rows',1000)\n",
    "\n",
    "from math import sqrt\n",
    "from math import log"
   ]
  },
  {
   "cell_type": "code",
   "execution_count": 2,
   "id": "7521e2b6",
   "metadata": {},
   "outputs": [
    {
     "data": {
      "text/plain": [
       "'The keys in this file are:'"
      ]
     },
     "metadata": {},
     "output_type": "display_data"
    },
    {
     "data": {
      "text/plain": [
       "['mujets_particle;1',\n",
       " 'mujets_particle/cutflow;1',\n",
       " 'mujets_particle/cutflow_mc;1',\n",
       " 'mujets_particle/cutflow_pu;1',\n",
       " 'mujets_particle/cutflow_zvtx;1',\n",
       " 'mujets_particle/cutflow_mc_pu;1',\n",
       " 'mujets_particle/cutflow_mc_pu_zvtx;1',\n",
       " 'mujets_particle/cutflow_scale_factors;1',\n",
       " 'mujets_particle/cutflow_btag_scale_factors;1',\n",
       " 'mujets_particle/cutflow_particle_level;1',\n",
       " 'mujets_particle/cutflow_particle_level_mc;1',\n",
       " 'mujets_particle/event_mu;1',\n",
       " 'mujets_particle/mc_weight;1',\n",
       " 'mujets_particle/jvt_SF;1',\n",
       " 'mujets_particle/pileup_weight;1',\n",
       " 'mujets_particle/el_n;1',\n",
       " 'mujets_particle/el_pt;1',\n",
       " 'mujets_particle/el_eta;1',\n",
       " 'mujets_particle/el_phi;1',\n",
       " 'mujets_particle/el_charge;1',\n",
       " 'mujets_particle/el_true_type;1',\n",
       " 'mujets_particle/mu_n;1',\n",
       " 'mujets_particle/mu_pt;1',\n",
       " 'mujets_particle/mu_eta;1',\n",
       " 'mujets_particle/mu_phi;1',\n",
       " 'mujets_particle/mu_charge;1',\n",
       " 'mujets_particle/mu_true_type;1',\n",
       " 'mujets_particle/ph_n;1',\n",
       " 'mujets_particle/ph_pt;1',\n",
       " 'mujets_particle/ph_eta;1',\n",
       " 'mujets_particle/ph_phi;1',\n",
       " 'mujets_particle/ph_e;1',\n",
       " 'mujets_particle/jet_n;1',\n",
       " 'mujets_particle/jet_pt;1',\n",
       " 'mujets_particle/jet_e;1',\n",
       " 'mujets_particle/jet_eta;1',\n",
       " 'mujets_particle/jet_phi;1',\n",
       " 'mujets_particle/jet_truthflav;1',\n",
       " 'mujets_particle/jet_btagSF_DL1r_77;1',\n",
       " 'mujets_particle/jet_isbtagged_DL1r_77;1',\n",
       " 'mujets_particle/jet0_pt;1',\n",
       " 'mujets_particle/jet0_eta;1',\n",
       " 'mujets_particle/jet0_phi;1',\n",
       " 'mujets_particle/jet0_e;1',\n",
       " 'mujets_particle/jet0_truthflav;1',\n",
       " 'mujets_particle/jet0_btagSF_DL1r_77;1',\n",
       " 'mujets_particle/jet0_isbtagged_DL1r_77;1',\n",
       " 'mujets_particle/jet1_pt;1',\n",
       " 'mujets_particle/jet1_eta;1',\n",
       " 'mujets_particle/jet1_phi;1',\n",
       " 'mujets_particle/jet1_e;1',\n",
       " 'mujets_particle/jet1_truthflav;1',\n",
       " 'mujets_particle/jet1_btagSF_DL1r_77;1',\n",
       " 'mujets_particle/jet1_isbtagged_DL1r_77;1',\n",
       " 'mujets_particle/jet2_pt;1',\n",
       " 'mujets_particle/jet2_eta;1',\n",
       " 'mujets_particle/jet2_phi;1',\n",
       " 'mujets_particle/jet2_e;1',\n",
       " 'mujets_particle/jet2_truthflav;1',\n",
       " 'mujets_particle/jet2_btagSF_DL1r_77;1',\n",
       " 'mujets_particle/jet2_isbtagged_DL1r_77;1',\n",
       " 'mujets_particle/jet3_pt;1',\n",
       " 'mujets_particle/jet3_eta;1',\n",
       " 'mujets_particle/jet3_phi;1',\n",
       " 'mujets_particle/jet3_e;1',\n",
       " 'mujets_particle/jet3_truthflav;1',\n",
       " 'mujets_particle/jet3_btagSF_DL1r_77;1',\n",
       " 'mujets_particle/jet3_isbtagged_DL1r_77;1',\n",
       " 'mujets_particle/ljet_n;1',\n",
       " 'mujets_particle/ljet_pt;1',\n",
       " 'mujets_particle/ljet_eta;1',\n",
       " 'mujets_particle/ljet_phi;1',\n",
       " 'mujets_particle/ljet_m;1',\n",
       " 'mujets_particle/taujet_n;1',\n",
       " 'mujets_particle/taujet_pt;1',\n",
       " 'mujets_particle/taujet_eta;1',\n",
       " 'mujets_particle/taujet_phi;1',\n",
       " 'mujets_particle/taujet_charge;1',\n",
       " 'mujets_particle/event_met_et;1',\n",
       " 'mujets_particle/event_met_phi;1',\n",
       " 'ejets_particle;1',\n",
       " 'ejets_particle/cutflow;1',\n",
       " 'ejets_particle/cutflow_mc;1',\n",
       " 'ejets_particle/cutflow_pu;1',\n",
       " 'ejets_particle/cutflow_zvtx;1',\n",
       " 'ejets_particle/cutflow_mc_pu;1',\n",
       " 'ejets_particle/cutflow_mc_pu_zvtx;1',\n",
       " 'ejets_particle/cutflow_scale_factors;1',\n",
       " 'ejets_particle/cutflow_btag_scale_factors;1',\n",
       " 'ejets_particle/cutflow_particle_level;1',\n",
       " 'ejets_particle/cutflow_particle_level_mc;1',\n",
       " 'ejets_particle/event_mu;1',\n",
       " 'ejets_particle/mc_weight;1',\n",
       " 'ejets_particle/jvt_SF;1',\n",
       " 'ejets_particle/pileup_weight;1',\n",
       " 'ejets_particle/el_n;1',\n",
       " 'ejets_particle/el_pt;1',\n",
       " 'ejets_particle/el_eta;1',\n",
       " 'ejets_particle/el_phi;1',\n",
       " 'ejets_particle/el_charge;1',\n",
       " 'ejets_particle/el_true_type;1',\n",
       " 'ejets_particle/mu_n;1',\n",
       " 'ejets_particle/mu_pt;1',\n",
       " 'ejets_particle/mu_eta;1',\n",
       " 'ejets_particle/mu_phi;1',\n",
       " 'ejets_particle/mu_charge;1',\n",
       " 'ejets_particle/mu_true_type;1',\n",
       " 'ejets_particle/ph_n;1',\n",
       " 'ejets_particle/ph_pt;1',\n",
       " 'ejets_particle/ph_eta;1',\n",
       " 'ejets_particle/ph_phi;1',\n",
       " 'ejets_particle/ph_e;1',\n",
       " 'ejets_particle/jet_n;1',\n",
       " 'ejets_particle/jet_pt;1',\n",
       " 'ejets_particle/jet_e;1',\n",
       " 'ejets_particle/jet_eta;1',\n",
       " 'ejets_particle/jet_phi;1',\n",
       " 'ejets_particle/jet_truthflav;1',\n",
       " 'ejets_particle/jet_btagSF_DL1r_77;1',\n",
       " 'ejets_particle/jet_isbtagged_DL1r_77;1',\n",
       " 'ejets_particle/jet0_pt;1',\n",
       " 'ejets_particle/jet0_eta;1',\n",
       " 'ejets_particle/jet0_phi;1',\n",
       " 'ejets_particle/jet0_e;1',\n",
       " 'ejets_particle/jet0_truthflav;1',\n",
       " 'ejets_particle/jet0_btagSF_DL1r_77;1',\n",
       " 'ejets_particle/jet0_isbtagged_DL1r_77;1',\n",
       " 'ejets_particle/jet1_pt;1',\n",
       " 'ejets_particle/jet1_eta;1',\n",
       " 'ejets_particle/jet1_phi;1',\n",
       " 'ejets_particle/jet1_e;1',\n",
       " 'ejets_particle/jet1_truthflav;1',\n",
       " 'ejets_particle/jet1_btagSF_DL1r_77;1',\n",
       " 'ejets_particle/jet1_isbtagged_DL1r_77;1',\n",
       " 'ejets_particle/jet2_pt;1',\n",
       " 'ejets_particle/jet2_eta;1',\n",
       " 'ejets_particle/jet2_phi;1',\n",
       " 'ejets_particle/jet2_e;1',\n",
       " 'ejets_particle/jet2_truthflav;1',\n",
       " 'ejets_particle/jet2_btagSF_DL1r_77;1',\n",
       " 'ejets_particle/jet2_isbtagged_DL1r_77;1',\n",
       " 'ejets_particle/jet3_pt;1',\n",
       " 'ejets_particle/jet3_eta;1',\n",
       " 'ejets_particle/jet3_phi;1',\n",
       " 'ejets_particle/jet3_e;1',\n",
       " 'ejets_particle/jet3_truthflav;1',\n",
       " 'ejets_particle/jet3_btagSF_DL1r_77;1',\n",
       " 'ejets_particle/jet3_isbtagged_DL1r_77;1',\n",
       " 'ejets_particle/ljet_n;1',\n",
       " 'ejets_particle/ljet_pt;1',\n",
       " 'ejets_particle/ljet_eta;1',\n",
       " 'ejets_particle/ljet_phi;1',\n",
       " 'ejets_particle/ljet_m;1',\n",
       " 'ejets_particle/taujet_n;1',\n",
       " 'ejets_particle/taujet_pt;1',\n",
       " 'ejets_particle/taujet_eta;1',\n",
       " 'ejets_particle/taujet_phi;1',\n",
       " 'ejets_particle/taujet_charge;1',\n",
       " 'ejets_particle/event_met_et;1',\n",
       " 'ejets_particle/event_met_phi;1',\n",
       " 'nominal;1',\n",
       " 'truth;1',\n",
       " 'particleLevel;1',\n",
       " 'sumWeights;1',\n",
       " 'AnalysisTracking;1']"
      ]
     },
     "metadata": {},
     "output_type": "display_data"
    }
   ],
   "source": [
    "lqdtuple = \"./ROOT_Files/anatop_output_LQD.root\"\n",
    "f = ur.open(lqdtuple)\n",
    "#print(f.classnames())\n",
    "display(\"The keys in this file are:\")\n",
    "display(f.keys())"
   ]
  },
  {
   "cell_type": "code",
   "execution_count": 3,
   "id": "ed671366",
   "metadata": {},
   "outputs": [
    {
     "name": "stdout",
     "output_type": "stream",
     "text": [
      "The dataframe type for selected TTree belongs to: <class 'tuple'>\n"
     ]
    }
   ],
   "source": [
    "tree = f[\"particleLevel\"] #Access Particle Level Info\n",
    "dfall = tree.arrays(library=\"pd\") #Using Pandas Library\n",
    "print('The dataframe type for selected TTree belongs to:', type(dfall))\n",
    "#print(dfall)"
   ]
  },
  {
   "cell_type": "code",
   "execution_count": 4,
   "id": "2627660e",
   "metadata": {},
   "outputs": [
    {
     "name": "stdout",
     "output_type": "stream",
     "text": [
      "The selected var type is: <class 'pandas.core.frame.DataFrame'>\n",
      "The dataframe shape is: (8912, 1)\n",
      "jet_pt    1439776.875\n",
      "Name: (0, 0), dtype: float32\n"
     ]
    },
    {
     "data": {
      "text/html": [
       "<div>\n",
       "<style scoped>\n",
       "    .dataframe tbody tr th:only-of-type {\n",
       "        vertical-align: middle;\n",
       "    }\n",
       "\n",
       "    .dataframe tbody tr th {\n",
       "        vertical-align: top;\n",
       "    }\n",
       "\n",
       "    .dataframe thead th {\n",
       "        text-align: right;\n",
       "    }\n",
       "</style>\n",
       "<table border=\"1\" class=\"dataframe\">\n",
       "  <thead>\n",
       "    <tr style=\"text-align: right;\">\n",
       "      <th></th>\n",
       "      <th></th>\n",
       "      <th>jet_pt</th>\n",
       "    </tr>\n",
       "    <tr>\n",
       "      <th>entry</th>\n",
       "      <th>subentry</th>\n",
       "      <th></th>\n",
       "    </tr>\n",
       "  </thead>\n",
       "  <tbody>\n",
       "    <tr>\n",
       "      <th rowspan=\"7\" valign=\"top\">0</th>\n",
       "      <th>0</th>\n",
       "      <td>1.439777e+06</td>\n",
       "    </tr>\n",
       "    <tr>\n",
       "      <th>1</th>\n",
       "      <td>8.726814e+05</td>\n",
       "    </tr>\n",
       "    <tr>\n",
       "      <th>2</th>\n",
       "      <td>6.200070e+05</td>\n",
       "    </tr>\n",
       "    <tr>\n",
       "      <th>3</th>\n",
       "      <td>4.208001e+05</td>\n",
       "    </tr>\n",
       "    <tr>\n",
       "      <th>4</th>\n",
       "      <td>2.964877e+05</td>\n",
       "    </tr>\n",
       "    <tr>\n",
       "      <th>5</th>\n",
       "      <td>5.348518e+04</td>\n",
       "    </tr>\n",
       "    <tr>\n",
       "      <th>6</th>\n",
       "      <td>2.697655e+04</td>\n",
       "    </tr>\n",
       "    <tr>\n",
       "      <th rowspan=\"7\" valign=\"top\">1</th>\n",
       "      <th>0</th>\n",
       "      <td>7.369804e+05</td>\n",
       "    </tr>\n",
       "    <tr>\n",
       "      <th>1</th>\n",
       "      <td>6.178489e+05</td>\n",
       "    </tr>\n",
       "    <tr>\n",
       "      <th>2</th>\n",
       "      <td>5.992792e+05</td>\n",
       "    </tr>\n",
       "    <tr>\n",
       "      <th>3</th>\n",
       "      <td>5.348192e+05</td>\n",
       "    </tr>\n",
       "    <tr>\n",
       "      <th>4</th>\n",
       "      <td>2.717223e+05</td>\n",
       "    </tr>\n",
       "    <tr>\n",
       "      <th>5</th>\n",
       "      <td>1.150813e+05</td>\n",
       "    </tr>\n",
       "    <tr>\n",
       "      <th>6</th>\n",
       "      <td>1.141008e+05</td>\n",
       "    </tr>\n",
       "  </tbody>\n",
       "</table>\n",
       "</div>"
      ],
      "text/plain": [
       "                      jet_pt\n",
       "entry subentry              \n",
       "0     0         1.439777e+06\n",
       "      1         8.726814e+05\n",
       "      2         6.200070e+05\n",
       "      3         4.208001e+05\n",
       "      4         2.964877e+05\n",
       "      5         5.348518e+04\n",
       "      6         2.697655e+04\n",
       "1     0         7.369804e+05\n",
       "      1         6.178489e+05\n",
       "      2         5.992792e+05\n",
       "      3         5.348192e+05\n",
       "      4         2.717223e+05\n",
       "      5         1.150813e+05\n",
       "      6         1.141008e+05"
      ]
     },
     "metadata": {},
     "output_type": "display_data"
    }
   ],
   "source": [
    "tree = f[\"particleLevel\"][\"jet_pt\"] #Directly access the jet_pt variable in the tree/data frame\n",
    "dfall = tree.arrays(library=\"pd\")   #Using Pandas Library\n",
    "print(\"The selected var type is:\", type(dfall))\n",
    "print(\"The dataframe shape is:\", dfall.shape)\n",
    "#print(dfall) #Bad idea to print entire dataframe\n",
    "print(dfall.iloc[0]) # Get what's in the first item of the given data object\n",
    "#Get first 14 entries of the variable, subentry number is disregraded. Indexing is with respect to\n",
    "display(dfall.head(14)) #Print some nicely for debugging"
   ]
  },
  {
   "cell_type": "code",
   "execution_count": 5,
   "id": "0eb880b5",
   "metadata": {},
   "outputs": [
    {
     "data": {
      "text/plain": [
       "'The data type is:'"
      ]
     },
     "metadata": {},
     "output_type": "display_data"
    },
    {
     "data": {
      "text/plain": [
       "dict"
      ]
     },
     "metadata": {},
     "output_type": "display_data"
    },
    {
     "data": {
      "text/plain": [
       "1439776.9"
      ]
     },
     "metadata": {},
     "output_type": "display_data"
    }
   ],
   "source": [
    "tree1 = f[\"particleLevel\"][\"jet_pt\"] #Directly access the jet_pt variable in the tree/data frame\n",
    "dfall1 = tree1.arrays(library=\"np\")  #Using Numpy Library\n",
    "display(\"The data type is:\",type(dfall1))\n",
    "#print(dfall1.items)\n",
    "#print(np.asarray(dfall1))\n",
    "a=list(dfall1.values())[0] #This gets all entries of the selected variable\n",
    "#print(a)#Bad idea to print all, populates the IPYNB\n",
    "display(a[0][0]) #Print first item"
   ]
  },
  {
   "cell_type": "code",
   "execution_count": 6,
   "id": "185358c8",
   "metadata": {},
   "outputs": [
    {
     "name": "stdout",
     "output_type": "stream",
     "text": [
      "name                 | typename                 | interpretation                \n",
      "---------------------+--------------------------+-------------------------------\n",
      "weight_mc            | float                    | AsDtype('>f4')\n",
      "eventNumber          | uint64_t                 | AsDtype('>u8')\n",
      "runNumber            | uint32_t                 | AsDtype('>u4')\n",
      "mcChannelNumber      | uint32_t                 | AsDtype('>u4')\n",
      "mu                   | float                    | AsDtype('>f4')\n",
      "mu_actual            | float                    | AsDtype('>f4')\n",
      "weight_pileup        | float                    | AsDtype('>f4')\n",
      "el_pt                | std::vector<float>       | AsJagged(AsDtype('>f4'), he...\n",
      "el_eta               | std::vector<float>       | AsJagged(AsDtype('>f4'), he...\n",
      "el_phi               | std::vector<float>       | AsJagged(AsDtype('>f4'), he...\n",
      "el_e                 | std::vector<float>       | AsJagged(AsDtype('>f4'), he...\n",
      "el_charge            | std::vector<float>       | AsJagged(AsDtype('>f4'), he...\n",
      "el_true_type         | std::vector<int32_t>     | AsJagged(AsDtype('>i4'), he...\n",
      "el_true_origin       | std::vector<int32_t>     | AsJagged(AsDtype('>i4'), he...\n",
      "el_pt_bare           | std::vector<float>       | AsJagged(AsDtype('>f4'), he...\n",
      "el_eta_bare          | std::vector<float>       | AsJagged(AsDtype('>f4'), he...\n",
      "el_phi_bare          | std::vector<float>       | AsJagged(AsDtype('>f4'), he...\n",
      "el_e_bare            | std::vector<float>       | AsJagged(AsDtype('>f4'), he...\n",
      "mu_pt                | std::vector<float>       | AsJagged(AsDtype('>f4'), he...\n",
      "mu_eta               | std::vector<float>       | AsJagged(AsDtype('>f4'), he...\n",
      "mu_phi               | std::vector<float>       | AsJagged(AsDtype('>f4'), he...\n",
      "mu_e                 | std::vector<float>       | AsJagged(AsDtype('>f4'), he...\n",
      "mu_charge            | std::vector<float>       | AsJagged(AsDtype('>f4'), he...\n",
      "mu_true_type         | std::vector<int32_t>     | AsJagged(AsDtype('>i4'), he...\n",
      "mu_true_origin       | std::vector<int32_t>     | AsJagged(AsDtype('>i4'), he...\n",
      "mu_pt_bare           | std::vector<float>       | AsJagged(AsDtype('>f4'), he...\n",
      "mu_eta_bare          | std::vector<float>       | AsJagged(AsDtype('>f4'), he...\n",
      "mu_phi_bare          | std::vector<float>       | AsJagged(AsDtype('>f4'), he...\n",
      "mu_e_bare            | std::vector<float>       | AsJagged(AsDtype('>f4'), he...\n",
      "jet_pt               | std::vector<float>       | AsJagged(AsDtype('>f4'), he...\n",
      "jet_eta              | std::vector<float>       | AsJagged(AsDtype('>f4'), he...\n",
      "jet_phi              | std::vector<float>       | AsJagged(AsDtype('>f4'), he...\n",
      "jet_e                | std::vector<float>       | AsJagged(AsDtype('>f4'), he...\n",
      "jet_nGhosts_bHadron  | std::vector<int32_t>     | AsJagged(AsDtype('>i4'), he...\n",
      "jet_nGhosts_cHadron  | std::vector<int32_t>     | AsJagged(AsDtype('>i4'), he...\n",
      "met_met              | float                    | AsDtype('>f4')\n",
      "met_phi              | float                    | AsDtype('>f4')\n",
      "PDFinfo_X1           | std::vector<float>       | AsJagged(AsDtype('>f4'), he...\n",
      "PDFinfo_X2           | std::vector<float>       | AsJagged(AsDtype('>f4'), he...\n",
      "PDFinfo_PDGID1       | std::vector<int32_t>     | AsJagged(AsDtype('>i4'), he...\n",
      "PDFinfo_PDGID2       | std::vector<int32_t>     | AsJagged(AsDtype('>i4'), he...\n",
      "PDFinfo_Q            | std::vector<float>       | AsJagged(AsDtype('>f4'), he...\n",
      "PDFinfo_XF1          | std::vector<float>       | AsJagged(AsDtype('>f4'), he...\n",
      "PDFinfo_XF2          | std::vector<float>       | AsJagged(AsDtype('>f4'), he...\n",
      "mujets_particle      | int32_t                  | AsDtype('>i4')\n",
      "ejets_particle       | int32_t                  | AsDtype('>i4')\n",
      "None\n",
      "_______________________\n",
      "<class 'uproot.models.TTree.Model_TTree_v20'>\n",
      "_______________________\n",
      "<bound method HasBranches.keys of <TTree 'particleLevel' (46 branches) at 0x7fa3522ec580>>\n",
      "_______________________\n",
      "<bound method HasBranches.typenames of <TTree 'particleLevel' (46 branches) at 0x7fa3522ec580>>\n",
      "_______________________\n",
      "<bound method HasBranches.values of <TTree 'particleLevel' (46 branches) at 0x7fa3522ec580>>\n",
      "_______________________\n"
     ]
    }
   ],
   "source": [
    "temp_tree1 = f[\"particleLevel\"]\n",
    "tree_info=temp_tree1.show()\n",
    "\n",
    "print(tree_info)\n",
    "\n",
    "print(\"_______________________\")\n",
    "print(type(temp_tree1))\n",
    "print(\"_______________________\")\n",
    "print(temp_tree1.keys)\n",
    "print(\"_______________________\")\n",
    "print(temp_tree1.typenames)\n",
    "print(\"_______________________\")\n",
    "print(temp_tree1.values)\n",
    "print(\"_______________________\")"
   ]
  },
  {
   "cell_type": "code",
   "execution_count": 7,
   "id": "795754c3",
   "metadata": {},
   "outputs": [
    {
     "data": {
      "text/plain": [
       "(8912,)"
      ]
     },
     "metadata": {},
     "output_type": "display_data"
    },
    {
     "name": "stderr",
     "output_type": "stream",
     "text": [
      "Info in <TCanvas::Print>: png file JetpTAll.png has been created\n"
     ]
    },
    {
     "data": {
      "image/png": "[encoded data removed]",
      "text/plain": [
       "<IPython.core.display.Image object>"
      ]
     },
     "metadata": {},
     "output_type": "display_data"
    }
   ],
   "source": [
    "jpt=(1e-3)*np.concatenate(np.asarray(f[\"particleLevel\"][\"jet_pt\"])).ravel()\n",
    "display(jpt.shape)\n",
    "#display(jpt) #We don't want the full array dumped here\n",
    "#display(\"_______________________\")\n",
    "\n",
    "root.gROOT.ForceStyle()\n",
    "root.gStyle.SetOptStat(0)\n",
    "c1 = root.TCanvas()\n",
    "h1  = root.TH1F( 'hist', 'Jet $p_T$;$p_T$ in [GeV];a.u', 20, 25,1800)\n",
    "for i in range(jpt.shape[0]):\n",
    "    h1.Fill(jpt[i])\n",
    "    #print(jpt[i])\n",
    "h1.Scale(1./h1.GetEntries());\n",
    "h1.Draw(\"HIST\")\n",
    "c1.Draw()\n",
    "c1.SaveAs(\"JetpTAll.png\")"
   ]
  },
  {
   "cell_type": "code",
   "execution_count": 8,
   "id": "fe740c1b",
   "metadata": {},
   "outputs": [
    {
     "data": {
      "text/plain": [
       "dict"
      ]
     },
     "metadata": {},
     "output_type": "display_data"
    },
    {
     "data": {
      "text/plain": [
       "dict"
      ]
     },
     "metadata": {},
     "output_type": "display_data"
    },
    {
     "data": {
      "text/plain": [
       "(5831,)"
      ]
     },
     "metadata": {},
     "output_type": "display_data"
    },
    {
     "name": "stderr",
     "output_type": "stream",
     "text": [
      "Warning in <TROOT::Append>: Replacing existing TH1: hist (Potential memory leak).\n",
      "Info in <TCanvas::Print>: png file JetpTLQ.png has been created\n"
     ]
    },
    {
     "data": {
      "image/png": "[encoded data removed]",
      "text/plain": [
       "<IPython.core.display.Image object>"
      ]
     },
     "metadata": {},
     "output_type": "display_data"
    }
   ],
   "source": [
    "#That's because we can't supply np.absolute within cut selection strings\n",
    "#Thus PDG IDs of AntiParticles have to be given as another selection\n",
    "\n",
    "dfall1 = temp_tree1.arrays([\"jet_pt\"],\"PDFinfo_PDGID1 == 1\",library=\"np\")\n",
    "dfall2 = temp_tree1.arrays([\"jet_pt\"],\"PDFinfo_PDGID1 ==-1\",library=\"np\") \n",
    "dfall3 = temp_tree1.arrays([\"jet_pt\"],\"PDFinfo_PDGID1 == 2\",library=\"np\")\n",
    "dfall4 = temp_tree1.arrays([\"jet_pt\"],\"PDFinfo_PDGID1 ==-2\",library=\"np\") \n",
    "display(type(dfall1),type(dfall2))\n",
    "\n",
    "a1=np.concatenate(np.asarray(list(dfall1.values())[0])).ravel() #ravel is important for flattening here\n",
    "a2=np.concatenate(np.asarray(list(dfall2.values())[0])).ravel()\n",
    "a3=np.concatenate(np.asarray(list(dfall3.values())[0])).ravel()\n",
    "a4=np.concatenate(np.asarray(list(dfall4.values())[0])).ravel()\n",
    "a00 = (1e-3)*np.asarray(np.concatenate((a1,a2),axis=0).ravel())\n",
    "a01 = (1e-3)*np.asarray(np.concatenate((a3,a4),axis=0).ravel())\n",
    "a   = np.asarray(np.concatenate((a00,a01),axis=0).ravel())\n",
    "\n",
    "display(a.shape)\n",
    "root.gROOT.ForceStyle()\n",
    "root.gStyle.SetOptStat(0)\n",
    "c2 = root.TCanvas()\n",
    "h2  = root.TH1F( 'hist', 'Jet $p_T$(Light Quarks);$p_T$ in [GeV];a.u', 20, 25,1800)\n",
    "for i in range(a.shape[0]):\n",
    "    h2.Fill(a[i])\n",
    "h2.Scale(1./h2.GetEntries());\n",
    "h2.Draw(\"HIST\")\n",
    "c2.Draw()\n",
    "c2.SaveAs(\"JetpTLQ.png\")"
   ]
  },
  {
   "cell_type": "code",
   "execution_count": 9,
   "id": "f9014019",
   "metadata": {},
   "outputs": [
    {
     "name": "stdout",
     "output_type": "stream",
     "text": [
      "<class 'dict'>\n",
      "_______________________\n",
      "(993,)\n"
     ]
    },
    {
     "name": "stderr",
     "output_type": "stream",
     "text": [
      "Warning in <TROOT::Append>: Replacing existing TH1: hist (Potential memory leak).\n",
      "Info in <TCanvas::Print>: png file MuonpT.png has been created\n"
     ]
    },
    {
     "data": {
      "image/png": "[encoded data removed]",
      "text/plain": [
       "<IPython.core.display.Image object>"
      ]
     },
     "metadata": {},
     "output_type": "display_data"
    }
   ],
   "source": [
    "dfall1 = temp_tree1.arrays([\"mu_pt\"],library=\"np\")\n",
    "print(type(dfall1))\n",
    "print(\"_______________________\")\n",
    "\n",
    "a = (1e-3)*np.concatenate(np.asarray(list(dfall1.values())[0])).ravel()\n",
    "print(a.shape)\n",
    "#display(a)\n",
    "root.gROOT.ForceStyle()\n",
    "root.gStyle.SetOptStat(0)\n",
    "c2 = root.TCanvas()\n",
    "h2  = root.TH1F( 'hist', 'Muon $p_T$;$p_T$ in [GeV];a.u', 20, 25,1800)\n",
    "for i in range(a.shape[0]):\n",
    "    h2.Fill(a[i])\n",
    "h2.Scale(1./h2.GetEntries());\n",
    "h2.GetXaxis().SetRangeUser(0, 1e3);\n",
    "h2.Draw(\"HIST\")\n",
    "c2.Draw()\n",
    "c2.SaveAs(\"MuonpT.png\")"
   ]
  }
 ],
 "metadata": {
  "kernelspec": {
   "display_name": "Python 3 (ipykernel)",
   "language": "python",
   "name": "python3"
  },
  "language_info": {
   "codemirror_mode": {
    "name": "ipython",
    "version": 3
   },
   "file_extension": ".py",
   "mimetype": "text/x-python",
   "name": "python",
   "nbconvert_exporter": "python",
   "pygments_lexer": "ipython3",
   "version": "3.8.5"
  }
 },
 "nbformat": 4,
 "nbformat_minor": 5
}
